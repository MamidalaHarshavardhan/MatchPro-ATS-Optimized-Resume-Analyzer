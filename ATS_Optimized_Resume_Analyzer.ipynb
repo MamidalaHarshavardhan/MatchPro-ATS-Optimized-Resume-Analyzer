{
  "nbformat": 4,
  "nbformat_minor": 0,
  "metadata": {
    "colab": {
      "provenance": []
    },
    "kernelspec": {
      "name": "python3",
      "display_name": "Python 3"
    },
    "language_info": {
      "name": "python"
    }
  },
  "cells": [
    {
      "cell_type": "code",
      "source": [
        "from dotenv import load_dotenv\n",
        "import streamlit as st\n",
        "from streamlit_extras import add_vertical_space as avs\n",
        "import google.generativeai as genai\n",
        "import os\n",
        "import PyPDF2\n",
        "from PIL import Image\n",
        "load_dotenv()\n",
        "genai.configure(api_key=os.getenv(\"GOOGLE_API_KEY\"))\n",
        "model = genai.GenerativeModel('gemini-pro')"
      ],
      "metadata": {
        "id": "dJgfAuYnq5Kt"
      },
      "execution_count": 10,
      "outputs": []
    },
    {
      "cell_type": "code",
      "source": [
        "def get_gemini_response (input):\n",
        " response = model.generate_content(input)\n",
        " return response.text"
      ],
      "metadata": {
        "id": "qYteWeklrBmf"
      },
      "execution_count": 13,
      "outputs": []
    },
    {
      "cell_type": "code",
      "source": [
        "def input_pdf_text (uploaded_file):\n",
        "   reader = PyPDF2.PdfReader(uploaded_file)\n",
        "   text = ''\n",
        "   for page_num in range(len(reader.pages)):\n",
        "       page = reader.pages[page_num]\n",
        "       text += str(page.extract_text())\n",
        "   return text"
      ],
      "metadata": {
        "id": "v76rNzhnsuy0"
      },
      "execution_count": 17,
      "outputs": []
    },
    {
      "cell_type": "code",
      "source": [
        "input_prompt=\"\"\"\n",
        "As an experienced ATS (Applicant Tracking system), proficient in the technical domain encompassing\n",
        "Software Engineering, Data Science, Data Analysis, Big Data Engineering, Web Developer, Mobile App\n",
        "Developer, DevOps Engineer, Machine Learning Engineer, Cybersecurity Analyst, Cloud Solutions Architect,\n",
        "Database Administrator, Network Engineer, Al Engineer, Systems Analyst, Full Stack Developer, UI/UX\n",
        "Designer, IT Project Manager, and additional specialized areas, your objective is to meticulously assess\n",
        "resumes against provided job descriptions. In a fiercely competitive job market, your expertise is crucial\n",
        "in offering top-notch guidance for resume enhancement. Assign precise matching percentages based on the JD\n",
        "(Job Description) and meticulously identify any missing keywords with utmost accuracy.\n",
        "resume: {text}\n",
        "description: {id}\n",
        "I want the response in the following structure:\n",
        "The first line indicates the percentage match with the job description (JD).\n",
        "The second line presents a list of missing keywords.\n",
        "The third section provides a profile summary.\n",
        "\n",
        "Mention the title for all the three sections.\n",
        "While generating the response put some space to separate all the three sections.\"\"\""
      ],
      "metadata": {
        "id": "fZ0vaiPluQ3G"
      },
      "execution_count": 18,
      "outputs": []
    }
  ]
}